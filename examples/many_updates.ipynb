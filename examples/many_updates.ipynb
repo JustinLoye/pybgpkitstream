{
 "cells": [
  {
   "cell_type": "markdown",
   "id": "4c092c0e",
   "metadata": {},
   "source": [
    "# Work around for working with many update files without caching (~ more than few hours)"
   ]
  },
  {
   "cell_type": "markdown",
   "id": "42c7bb60",
   "metadata": {},
   "source": [
    "Without using the cache, the next cell will crash because it makes too many requests with pybgpkit.  \n",
    "This is because `BGPKITStream.__iter__` instantiate many `bgpkit.Parser` objects and BGPKIT is not lazy at instantiation."
   ]
  },
  {
   "cell_type": "code",
   "execution_count": 1,
   "id": "40a46650",
   "metadata": {},
   "outputs": [
    {
     "name": "stderr",
     "output_type": "stream",
     "text": [
      "\n",
      "thread '<unnamed>' panicked at src/lib.rs:129:57:\n",
      "called `Result::unwrap()` on an `Err` value: ParserErrorWithBytes { error: OneIoError(RemoteIoError(reqwest::Error { kind: Request, url: \"http://archive.routeviews.org/route-views.sydney/bgpdata/2010.09/UPDATES/updates.20100901.1015.bz2\", source: TimedOut })), bytes: None }\n",
      "note: run with `RUST_BACKTRACE=1` environment variable to display a backtrace\n"
     ]
    },
    {
     "ename": "PanicException",
     "evalue": "called `Result::unwrap()` on an `Err` value: ParserErrorWithBytes { error: OneIoError(RemoteIoError(reqwest::Error { kind: Request, url: \"http://archive.routeviews.org/route-views.sydney/bgpdata/2010.09/UPDATES/updates.20100901.1015.bz2\", source: TimedOut })), bytes: None }",
     "output_type": "error",
     "traceback": [
      "\u001b[31m---------------------------------------------------------------------------\u001b[39m",
      "\u001b[31mPanicException\u001b[39m                            Traceback (most recent call last)",
      "\u001b[36mCell\u001b[39m\u001b[36m \u001b[39m\u001b[32mIn[1]\u001b[39m\u001b[32m, line 12\u001b[39m\n\u001b[32m      4\u001b[39m config = BGPStreamConfig(\n\u001b[32m      5\u001b[39m     start_time=datetime.datetime(\u001b[32m2010\u001b[39m, \u001b[32m9\u001b[39m, \u001b[32m1\u001b[39m, \u001b[32m0\u001b[39m, \u001b[32m0\u001b[39m),\n\u001b[32m      6\u001b[39m     end_time=datetime.datetime(\u001b[32m2010\u001b[39m, \u001b[32m9\u001b[39m, \u001b[32m1\u001b[39m, \u001b[32m23\u001b[39m, \u001b[32m55\u001b[39m, \u001b[32m0\u001b[39m),\n\u001b[32m      7\u001b[39m     collectors=[\u001b[33m\"\u001b[39m\u001b[33mroute-views.sydney\u001b[39m\u001b[33m\"\u001b[39m, \u001b[33m\"\u001b[39m\u001b[33mroute-views.wide\u001b[39m\u001b[33m\"\u001b[39m],\n\u001b[32m      8\u001b[39m     data_types=[\u001b[33m\"\u001b[39m\u001b[33mupdates\u001b[39m\u001b[33m\"\u001b[39m],\n\u001b[32m      9\u001b[39m )\n\u001b[32m     11\u001b[39m stream = BGPKITStream.from_config(config)\n\u001b[32m---> \u001b[39m\u001b[32m12\u001b[39m \u001b[38;5;28;43;01mfor\u001b[39;49;00m\u001b[43m \u001b[49m\u001b[43melem\u001b[49m\u001b[43m \u001b[49m\u001b[38;5;129;43;01min\u001b[39;49;00m\u001b[43m \u001b[49m\u001b[43mstream\u001b[49m\u001b[43m:\u001b[49m\n\u001b[32m     13\u001b[39m \u001b[43m    \u001b[49m\u001b[38;5;28;43;01mpass\u001b[39;49;00m\n",
      "\u001b[36mFile \u001b[39m\u001b[32m~/Documents/projects/pybgpkitstream/src/pybgpkitstream/bgpkitstream.py:193\u001b[39m, in \u001b[36mBGPKITStream.__iter__\u001b[39m\u001b[34m(self)\u001b[39m\n\u001b[32m    191\u001b[39m \u001b[38;5;66;03m# Chain rib or update iterators to get one stream per collector / data_type\u001b[39;00m\n\u001b[32m    192\u001b[39m \u001b[38;5;28;01mfor\u001b[39;00m rc, urls \u001b[38;5;129;01min\u001b[39;00m rc_to_urls.items():\n\u001b[32m--> \u001b[39m\u001b[32m193\u001b[39m     parsers = \u001b[43m[\u001b[49m\u001b[43mbgpkit\u001b[49m\u001b[43m.\u001b[49m\u001b[43mParser\u001b[49m\u001b[43m(\u001b[49m\u001b[43murl\u001b[49m\u001b[43m=\u001b[49m\u001b[43murl\u001b[49m\u001b[43m,\u001b[49m\u001b[43m \u001b[49m\u001b[43mfilters\u001b[49m\u001b[43m=\u001b[49m\u001b[38;5;28;43mself\u001b[39;49m\u001b[43m.\u001b[49m\u001b[43mfilters\u001b[49m\u001b[43m)\u001b[49m\u001b[43m \u001b[49m\u001b[38;5;28;43;01mfor\u001b[39;49;00m\u001b[43m \u001b[49m\u001b[43murl\u001b[49m\u001b[43m \u001b[49m\u001b[38;5;129;43;01min\u001b[39;49;00m\u001b[43m \u001b[49m\u001b[43murls\u001b[49m\u001b[43m]\u001b[49m\n\u001b[32m    195\u001b[39m     chained_iterator = chain.from_iterable(parsers)\n\u001b[32m    197\u001b[39m     \u001b[38;5;66;03m# Add metadata lost by bgpkit for compatibility with pubgpstream\u001b[39;00m\n",
      "\u001b[36mFile \u001b[39m\u001b[32m~/Documents/projects/pybgpkitstream/src/pybgpkitstream/bgpkitstream.py:193\u001b[39m, in \u001b[36m<listcomp>\u001b[39m\u001b[34m(.0)\u001b[39m\n\u001b[32m    191\u001b[39m \u001b[38;5;66;03m# Chain rib or update iterators to get one stream per collector / data_type\u001b[39;00m\n\u001b[32m    192\u001b[39m \u001b[38;5;28;01mfor\u001b[39;00m rc, urls \u001b[38;5;129;01min\u001b[39;00m rc_to_urls.items():\n\u001b[32m--> \u001b[39m\u001b[32m193\u001b[39m     parsers = [\u001b[43mbgpkit\u001b[49m\u001b[43m.\u001b[49m\u001b[43mParser\u001b[49m\u001b[43m(\u001b[49m\u001b[43murl\u001b[49m\u001b[43m=\u001b[49m\u001b[43murl\u001b[49m\u001b[43m,\u001b[49m\u001b[43m \u001b[49m\u001b[43mfilters\u001b[49m\u001b[43m=\u001b[49m\u001b[38;5;28;43mself\u001b[39;49m\u001b[43m.\u001b[49m\u001b[43mfilters\u001b[49m\u001b[43m)\u001b[49m \u001b[38;5;28;01mfor\u001b[39;00m url \u001b[38;5;129;01min\u001b[39;00m urls]\n\u001b[32m    195\u001b[39m     chained_iterator = chain.from_iterable(parsers)\n\u001b[32m    197\u001b[39m     \u001b[38;5;66;03m# Add metadata lost by bgpkit for compatibility with pubgpstream\u001b[39;00m\n",
      "\u001b[31mPanicException\u001b[39m: called `Result::unwrap()` on an `Err` value: ParserErrorWithBytes { error: OneIoError(RemoteIoError(reqwest::Error { kind: Request, url: \"http://archive.routeviews.org/route-views.sydney/bgpdata/2010.09/UPDATES/updates.20100901.1015.bz2\", source: TimedOut })), bytes: None }"
     ]
    }
   ],
   "source": [
    "import datetime\n",
    "from pybgpkitstream import BGPStreamConfig, BGPKITStream\n",
    "\n",
    "config = BGPStreamConfig(\n",
    "    start_time=datetime.datetime(2010, 9, 1, 0, 0),\n",
    "    end_time=datetime.datetime(2010, 9, 1, 23, 55, 0),\n",
    "    collectors=[\"route-views.sydney\", \"route-views.wide\"],\n",
    "    data_types=[\"updates\"],\n",
    ")\n",
    "\n",
    "stream = BGPKITStream.from_config(config)\n",
    "for elem in stream:\n",
    "    pass"
   ]
  },
  {
   "cell_type": "markdown",
   "id": "acdc836b",
   "metadata": {},
   "source": [
    "A workaround is to use the cache or to break down your stream to smaller ones and simply chain them"
   ]
  },
  {
   "cell_type": "code",
   "execution_count": 3,
   "id": "2ffbe4e0",
   "metadata": {},
   "outputs": [
    {
     "name": "stdout",
     "output_type": "stream",
     "text": [
      "Parsed 1271312 BGP elements\n"
     ]
    }
   ],
   "source": [
    "from itertools import chain, pairwise\n",
    "\n",
    "\n",
    "def sample_every(\n",
    "    start: datetime.datetime, end: datetime.datetime, interval: datetime.timedelta\n",
    ") -> list[datetime.datetime]:\n",
    "    current = start\n",
    "    samples = []\n",
    "    while current < end:\n",
    "        samples.append(current)\n",
    "        current += interval\n",
    "    samples.append(end)\n",
    "    return samples\n",
    "\n",
    "\n",
    "def decompose_bgpstreamconfig(\n",
    "    config: BGPStreamConfig, interval=datetime.timedelta(hours=2)\n",
    ") -> list[BGPStreamConfig]:\n",
    "    intermediate_steps = sample_every(config.start_time, config.end_time, interval)\n",
    "    configs = []\n",
    "    for start, end in pairwise(intermediate_steps):\n",
    "        subconfig = BGPStreamConfig(\n",
    "            start_time=start,\n",
    "            end_time=end\n",
    "            - datetime.timedelta(\n",
    "                microseconds=0.1\n",
    "            ),  # prevent overlapping (bgpstream includes borders)\n",
    "            collectors=config.collectors,\n",
    "            data_types=config.data_types,\n",
    "            cache_dir=config.cache_dir,\n",
    "            filters=config.filters,\n",
    "        )\n",
    "        configs.append(subconfig)\n",
    "    return configs\n",
    "\n",
    "\n",
    "config = BGPStreamConfig(\n",
    "    start_time=datetime.datetime(2010, 9, 1, 0, 0),\n",
    "    end_time=datetime.datetime(2010, 9, 1, 23, 55, 0),\n",
    "    collectors=[\"route-views.sydney\", \"route-views.wide\"],\n",
    "    data_types=[\"updates\"],\n",
    ")\n",
    "\n",
    "subconfigs = decompose_bgpstreamconfig(config, interval=datetime.timedelta(hours=2))\n",
    "stream = chain.from_iterable(\n",
    "    BGPKITStream.from_config(subconfig) for subconfig in subconfigs\n",
    ")\n",
    "\n",
    "n_elems = 0\n",
    "for elem in stream:\n",
    "    n_elems += 1\n",
    "print(f\"Parsed {n_elems} BGP elements\")"
   ]
  }
 ],
 "metadata": {
  "kernelspec": {
   "display_name": "pybgpkitstream",
   "language": "python",
   "name": "python3"
  },
  "language_info": {
   "codemirror_mode": {
    "name": "ipython",
    "version": 3
   },
   "file_extension": ".py",
   "mimetype": "text/x-python",
   "name": "python",
   "nbconvert_exporter": "python",
   "pygments_lexer": "ipython3",
   "version": "3.11.13"
  }
 },
 "nbformat": 4,
 "nbformat_minor": 5
}
