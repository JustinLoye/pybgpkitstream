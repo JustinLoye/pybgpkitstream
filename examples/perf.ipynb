{
 "cells": [
  {
   "cell_type": "markdown",
   "id": "495891a7",
   "metadata": {},
   "source": [
    "# Performance analysis - Comparison with pybgpstream"
   ]
  },
  {
   "cell_type": "code",
   "execution_count": null,
   "id": "902cd2a8",
   "metadata": {},
   "outputs": [
    {
     "name": "stdout",
     "output_type": "stream",
     "text": [
      "This cell runs only once per kernel restart.\n"
     ]
    }
   ],
   "source": [
    "# Go to project root\n",
    "import os\n",
    "\n",
    "if \"_executed_once\" not in get_ipython().user_ns:\n",
    "    print(\"This cell runs only once per kernel restart.\")\n",
    "    get_ipython().user_ns[\"_executed_once\"] = True\n",
    "\n",
    "    os.chdir(\"../\")\n"
   ]
  },
  {
   "cell_type": "code",
   "execution_count": 2,
   "id": "8a1d8c62",
   "metadata": {},
   "outputs": [],
   "source": [
    "import time\n",
    "import datetime\n",
    "from pybgpkitstream import BGPKITStream, BGPStreamConfig\n",
    "from pybgpstream import BGPStream\n",
    "from tests.pybgpstream_utils import make_bgpstream\n",
    "\n",
    "\n",
    "def consume_stream(stream: BGPKITStream | BGPStream):\n",
    "    n_elems = 0\n",
    "    start = time.time()\n",
    "    for _ in stream:\n",
    "        n_elems += 1\n",
    "    print(f\"Processed {n_elems} elements in {time.time() - start} seconds\")"
   ]
  },
  {
   "cell_type": "markdown",
   "id": "689729ef",
   "metadata": {},
   "source": [
    "## No caching"
   ]
  },
  {
   "cell_type": "markdown",
   "id": "9eb0e239",
   "metadata": {},
   "source": [
    "Basic example"
   ]
  },
  {
   "cell_type": "code",
   "execution_count": 3,
   "id": "b2637c11",
   "metadata": {},
   "outputs": [],
   "source": [
    "config = BGPStreamConfig(\n",
    "    start_time=datetime.datetime(2010, 9, 1, 0, 0),\n",
    "    end_time=datetime.datetime(2010, 9, 1, 2, 0),\n",
    "    collectors=[\"route-views.sydney\", \"route-views.wide\"],\n",
    "    data_types=[\"updates\"],\n",
    ")"
   ]
  },
  {
   "cell_type": "code",
   "execution_count": 4,
   "id": "3a3d426d",
   "metadata": {},
   "outputs": [
    {
     "name": "stdout",
     "output_type": "stream",
     "text": [
      "Processed 81784 elements in 11.887867212295532 seconds\n"
     ]
    }
   ],
   "source": [
    "stream = BGPKITStream.from_config(config)\n",
    "consume_stream(stream)\n"
   ]
  },
  {
   "cell_type": "code",
   "execution_count": 5,
   "id": "79a4208c",
   "metadata": {},
   "outputs": [
    {
     "name": "stdout",
     "output_type": "stream",
     "text": [
      "Processed 81784 elements in 12.96371841430664 seconds\n"
     ]
    }
   ],
   "source": [
    "stream = make_bgpstream(config)\n",
    "consume_stream(stream)\n"
   ]
  },
  {
   "cell_type": "markdown",
   "id": "7896f1b3",
   "metadata": {},
   "source": [
    "Parse two RIBs"
   ]
  },
  {
   "cell_type": "code",
   "execution_count": 6,
   "id": "3bee0372",
   "metadata": {},
   "outputs": [],
   "source": [
    "config = BGPStreamConfig(\n",
    "    start_time=datetime.datetime(2010, 9, 1, 0, 0),\n",
    "    end_time=datetime.datetime(2010, 9, 1, 1, 59),\n",
    "    collectors=[\"route-views.sydney\", \"route-views.wide\"],\n",
    "    data_types=[\"ribs\"],\n",
    ")"
   ]
  },
  {
   "cell_type": "code",
   "execution_count": 7,
   "id": "c882ebb7",
   "metadata": {},
   "outputs": [
    {
     "name": "stdout",
     "output_type": "stream",
     "text": [
      "Processed 1819101 elements in 69.90047550201416 seconds\n"
     ]
    }
   ],
   "source": [
    "stream = BGPKITStream.from_config(config)\n",
    "consume_stream(stream)"
   ]
  },
  {
   "cell_type": "code",
   "execution_count": 8,
   "id": "8326f5ae",
   "metadata": {},
   "outputs": [
    {
     "name": "stdout",
     "output_type": "stream",
     "text": [
      "Processed 1819101 elements in 18.970858573913574 seconds\n"
     ]
    }
   ],
   "source": [
    "stream = make_bgpstream(config)\n",
    "consume_stream(stream)\n"
   ]
  },
  {
   "cell_type": "markdown",
   "id": "4c06a27f",
   "metadata": {},
   "source": [
    "Many route collectors"
   ]
  },
  {
   "cell_type": "code",
   "execution_count": 9,
   "id": "2f1caef3",
   "metadata": {},
   "outputs": [],
   "source": [
    "config = BGPStreamConfig(\n",
    "    start_time=datetime.datetime(2010, 9, 1, 0, 0),\n",
    "    end_time=datetime.datetime(2010, 9, 1, 2, 0, 0),\n",
    "    collectors=[\n",
    "        \"route-views.sydney\",\n",
    "        \"route-views.wide\",\n",
    "        \"rrc00\",\n",
    "        \"rrc01\",\n",
    "        \"rrc03\",\n",
    "        \"rrc12\",\n",
    "    ],\n",
    "    data_types=[\"updates\"]\n",
    ")"
   ]
  },
  {
   "cell_type": "code",
   "execution_count": 10,
   "id": "cb62b895",
   "metadata": {},
   "outputs": [
    {
     "name": "stdout",
     "output_type": "stream",
     "text": [
      "Processed 1142081 elements in 216.6344769001007 seconds\n"
     ]
    }
   ],
   "source": [
    "stream = BGPKITStream.from_config(config)\n",
    "consume_stream(stream)"
   ]
  },
  {
   "cell_type": "code",
   "execution_count": 11,
   "id": "66aad788",
   "metadata": {},
   "outputs": [
    {
     "name": "stdout",
     "output_type": "stream",
     "text": [
      "Processed 1220538 elements in 63.346800327301025 seconds\n"
     ]
    }
   ],
   "source": [
    "stream = make_bgpstream(config)\n",
    "consume_stream(stream)"
   ]
  },
  {
   "cell_type": "markdown",
   "id": "c970d567",
   "metadata": {},
   "source": [
    "Many updates for one route collector (with [workaround fix](./many_updates.ipynb))"
   ]
  },
  {
   "cell_type": "code",
   "execution_count": 12,
   "id": "070e3486",
   "metadata": {},
   "outputs": [],
   "source": [
    "from itertools import chain, pairwise\n",
    "\n",
    "\n",
    "def sample_every(\n",
    "    start: datetime.datetime, end: datetime.datetime, interval: datetime.timedelta\n",
    ") -> list[datetime.datetime]:\n",
    "    current = start\n",
    "    samples = []\n",
    "    while current < end:\n",
    "        samples.append(current)\n",
    "        current += interval\n",
    "    samples.append(end)\n",
    "    return samples\n",
    "\n",
    "\n",
    "def decompose_bgpstreamconfig(\n",
    "    config: BGPStreamConfig, interval=datetime.timedelta(hours=2)\n",
    ") -> list[BGPStreamConfig]:\n",
    "    intermediate_steps = sample_every(config.start_time, config.end_time, interval)\n",
    "    configs = []\n",
    "    for start, end in pairwise(intermediate_steps):\n",
    "        subconfig = BGPStreamConfig(\n",
    "            start_time=start,\n",
    "            end_time=end\n",
    "            - datetime.timedelta(\n",
    "                microseconds=0.1\n",
    "            ),  # prevent overlapping (bgpstream includes borders)\n",
    "            collectors=config.collectors,\n",
    "            data_types=config.data_types,\n",
    "            cache_dir=config.cache_dir,\n",
    "            filters=config.filters,\n",
    "        )\n",
    "        configs.append(subconfig)\n",
    "    return configs\n",
    "\n",
    "\n",
    "config = BGPStreamConfig(\n",
    "    start_time=datetime.datetime(2010, 9, 1, 0, 0),\n",
    "    end_time=datetime.datetime(2010, 9, 1, 23, 55, 0),\n",
    "    collectors=[\"route-views.wide\"],\n",
    "    data_types=[\"updates\"],\n",
    ")\n",
    "\n",
    "subconfigs = decompose_bgpstreamconfig(config, interval=datetime.timedelta(hours=2))"
   ]
  },
  {
   "cell_type": "code",
   "execution_count": 13,
   "id": "db5662e8",
   "metadata": {},
   "outputs": [
    {
     "name": "stdout",
     "output_type": "stream",
     "text": [
      "Processed 445076 elements in 70.42159390449524 seconds\n"
     ]
    }
   ],
   "source": [
    "stream = chain.from_iterable(\n",
    "    BGPKITStream.from_config(subconfig) for subconfig in subconfigs\n",
    ")\n",
    "consume_stream(stream)"
   ]
  },
  {
   "cell_type": "code",
   "execution_count": 14,
   "id": "dc59eef2",
   "metadata": {},
   "outputs": [
    {
     "name": "stdout",
     "output_type": "stream",
     "text": [
      "Processed 445076 elements in 145.92080354690552 seconds\n"
     ]
    }
   ],
   "source": [
    "stream = chain.from_iterable(make_bgpstream(subconfig) for subconfig in subconfigs)\n",
    "consume_stream(stream)"
   ]
  }
 ],
 "metadata": {
  "kernelspec": {
   "display_name": "pybgpkitstream",
   "language": "python",
   "name": "python3"
  },
  "language_info": {
   "codemirror_mode": {
    "name": "ipython",
    "version": 3
   },
   "file_extension": ".py",
   "mimetype": "text/x-python",
   "name": "python",
   "nbconvert_exporter": "python",
   "pygments_lexer": "ipython3",
   "version": "3.11.13"
  }
 },
 "nbformat": 4,
 "nbformat_minor": 5
}
