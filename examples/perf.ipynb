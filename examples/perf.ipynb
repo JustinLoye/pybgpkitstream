{
 "cells": [
  {
   "cell_type": "markdown",
   "id": "495891a7",
   "metadata": {},
   "source": [
    "# TO DO"
   ]
  },
  {
   "cell_type": "markdown",
   "id": "3a3d426d",
   "metadata": {},
   "source": []
  }
 ],
 "metadata": {
  "language_info": {
   "name": "python"
  }
 },
 "nbformat": 4,
 "nbformat_minor": 5
}
